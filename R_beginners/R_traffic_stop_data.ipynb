{
 "cells": [
  {
   "cell_type": "code",
   "execution_count": 156,
   "metadata": {},
   "outputs": [],
   "source": [
    "## Libraries to include\n",
    "library(tidyverse)\n",
    "library(lubridate)\n",
    "library(dplyr)\n",
    "# For Veil of Darkness\n",
    "library(lutz)\n",
    "# library(suncalc)\n",
    "# library(splines)\n"
   ]
  },
  {
   "cell_type": "code",
   "execution_count": 157,
   "metadata": {},
   "outputs": [],
   "source": [
    "## Load data\n",
    "# https://bouldercolorado.gov/open-data/police-stop-demographics/\n",
    "data_file <- \"police_data/police_stop_data_main_2018.csv\"\n",
    "df_stops <- read.csv(data_file, , na.strings=\"\")#IMPORTANT to include the na.strings part to not be misled about NaNs"
   ]
  },
  {
   "attachments": {},
   "cell_type": "markdown",
   "metadata": {},
   "source": [
    "A=Asian, B=Black or African American, I=American Indian or Alaskan Native, U= Unknown, W=White.\n",
    "\n",
    "|Column Name|\tDescription\n",
    "|:--|:--|\n",
    "|stopdate|\tDate of the stop\n",
    "|stoptime|\tTime (in 24 hour format) when the stop began.\n",
    "|streetnbr|\tStreet number where stop occurred\n",
    "|streetdir|\tDirection of street. Not currently used by Boulder Police Department officers.\n",
    "|street|\tStreet or intersection where stop occurred\n",
    "|Min|\tDuration of the stop, in minutes. Rounded to 5 minute intervals.\n",
    "|sex|\tSex of the individual stopped. In most cases, this is collected from the individual's driver's license or identification card. M= male, F= female.\n",
    "|race|\tRace of the individual stopped. Identified by the police officer; see Methods document for more details on this process. A=Asian, B=Black or African American, I=American Indian or Alaskan Native, U= Unknown, W=White.\n",
    "|ethnic|\tEthnicity of the individual stopped. Identified by the police officer; see Methods document for more details on this process. H=Hispanic, N=Non-Hispanic.\n",
    "|Year of birth|\tYear of birth of the individual stopped. In most cases, this is collected from the individual's driver's license or identification card. Typos may be present due to manual entry of this field.\n",
    "|enfaction|\tWhether the individual is a city of Boulder resident. Y= yes, Boulder resident. N=no, Non-Boulder resident. This may be collected from the individual's driver's license or identification card, or reported by the individual.\n",
    "|rpmainid|\tUnique identifier for the stop. Use this field to merge with \"appid\" in the Results dataset.\n",
    "|appkey\t| Type of Police activity as part of the stop. RPT1=Type of Stop, RPT2=Stop Reason, RPT3=Search Conducted, RPT4=Search Authority, RPT5=Contraband Found, RPT6=Result of Stop, RPT7=Charge.\n",
    "|appid|\tUnique identifier for the stop. Use this field to merge with \"rpmainid\" in the Main dataset.\n",
    "\n"
   ]
  },
  {
   "cell_type": "code",
   "execution_count": 158,
   "metadata": {},
   "outputs": [
    {
     "data": {
      "text/html": [
       "<ol class=list-inline>\n",
       "\t<li>'stopdate'</li>\n",
       "\t<li>'stoptime'</li>\n",
       "\t<li>'streetnbr'</li>\n",
       "\t<li>'streetdir'</li>\n",
       "\t<li>'street'</li>\n",
       "\t<li>'Min'</li>\n",
       "\t<li>'sex'</li>\n",
       "\t<li>'race'</li>\n",
       "\t<li>'ethnic'</li>\n",
       "\t<li>'Year.of.birth'</li>\n",
       "\t<li>'enfaction'</li>\n",
       "\t<li>'rpmainid'</li>\n",
       "</ol>\n"
      ],
      "text/latex": [
       "\\begin{enumerate*}\n",
       "\\item 'stopdate'\n",
       "\\item 'stoptime'\n",
       "\\item 'streetnbr'\n",
       "\\item 'streetdir'\n",
       "\\item 'street'\n",
       "\\item 'Min'\n",
       "\\item 'sex'\n",
       "\\item 'race'\n",
       "\\item 'ethnic'\n",
       "\\item 'Year.of.birth'\n",
       "\\item 'enfaction'\n",
       "\\item 'rpmainid'\n",
       "\\end{enumerate*}\n"
      ],
      "text/markdown": [
       "1. 'stopdate'\n",
       "2. 'stoptime'\n",
       "3. 'streetnbr'\n",
       "4. 'streetdir'\n",
       "5. 'street'\n",
       "6. 'Min'\n",
       "7. 'sex'\n",
       "8. 'race'\n",
       "9. 'ethnic'\n",
       "10. 'Year.of.birth'\n",
       "11. 'enfaction'\n",
       "12. 'rpmainid'\n",
       "\n",
       "\n"
      ],
      "text/plain": [
       " [1] \"stopdate\"      \"stoptime\"      \"streetnbr\"     \"streetdir\"    \n",
       " [5] \"street\"        \"Min\"           \"sex\"           \"race\"         \n",
       " [9] \"ethnic\"        \"Year.of.birth\" \"enfaction\"     \"rpmainid\"     "
      ]
     },
     "metadata": {},
     "output_type": "display_data"
    },
    {
     "name": "stdout",
     "output_type": "stream",
     "text": [
      "'data.frame':\t8215 obs. of  12 variables:\n",
      " $ stopdate     : Factor w/ 369 levels \" 01/01/2018\",..: 1 1 368 368 368 368 2 2 2 2 ...\n",
      " $ stoptime     : int  1619 1630 214 214 214 2213 736 756 1207 1530 ...\n",
      " $ streetnbr    : Factor w/ 619 levels \"1\",\"100\",\"100 BLK\",..: 462 561 172 172 172 189 491 491 142 NA ...\n",
      " $ streetdir    : logi  NA NA NA NA NA NA ...\n",
      " $ street       : Factor w/ 1303 levels \"1000 CANYON\",..: 525 503 623 623 623 945 605 605 331 832 ...\n",
      " $ Min          : int  5 10 35 35 350 10 18 18 10 10 ...\n",
      " $ sex          : Factor w/ 2 levels \"F\",\"M\": 2 2 2 2 2 1 2 2 1 NA ...\n",
      " $ race         : Factor w/ 5 levels \"A\",\"B\",\"I\",\"U\",..: 5 5 5 5 5 5 5 5 5 NA ...\n",
      " $ ethnic       : Factor w/ 2 levels \"H\",\"N\": 2 2 2 2 2 2 2 2 2 NA ...\n",
      " $ Year.of.birth: int  1976 2000 1991 1992 1958 2000 1975 1990 1976 1961 ...\n",
      " $ enfaction    : Factor w/ 2 levels \"N\",\"Y\": 2 1 1 1 1 1 2 1 1 2 ...\n",
      " $ rpmainid     : int  2862 2863 2864 2865 2866 2867 2868 2869 2870 2871 ...\n"
     ]
    },
    {
     "data": {
      "text/html": [
       "<table>\n",
       "<thead><tr><th scope=col>stopdate</th><th scope=col>stoptime</th><th scope=col>streetnbr</th><th scope=col>streetdir</th><th scope=col>street</th><th scope=col>Min</th><th scope=col>sex</th><th scope=col>race</th><th scope=col>ethnic</th><th scope=col>Year.of.birth</th><th scope=col>enfaction</th><th scope=col>rpmainid</th></tr></thead>\n",
       "<tbody>\n",
       "\t<tr><td> 01/01/2018              </td><td>1619                     </td><td>4561                     </td><td>NA                       </td><td>ARAPAHOE AVE/MACARTHUR DR</td><td>  5                      </td><td>M                        </td><td>W                        </td><td>N                        </td><td>1976                     </td><td>Y                        </td><td>2862                     </td></tr>\n",
       "\t<tr><td> 01/01/2018              </td><td>1630                     </td><td>6600                     </td><td>NA                       </td><td>ARAPAHOE AVE             </td><td> 10                      </td><td>M                        </td><td>W                        </td><td>N                        </td><td>2000                     </td><td>N                        </td><td>2863                     </td></tr>\n",
       "\t<tr><td> 12/31/2017              </td><td> 214                     </td><td>1799                     </td><td>NA                       </td><td>BROADWAY/CANYON BLVD     </td><td> 35                      </td><td>M                        </td><td>W                        </td><td>N                        </td><td>1991                     </td><td>N                        </td><td>2864                     </td></tr>\n",
       "\t<tr><td> 12/31/2017              </td><td> 214                     </td><td>1799                     </td><td>NA                       </td><td>BROADWAY/CANYON BLVD     </td><td> 35                      </td><td>M                        </td><td>W                        </td><td>N                        </td><td>1992                     </td><td>N                        </td><td>2865                     </td></tr>\n",
       "\t<tr><td> 12/31/2017              </td><td> 214                     </td><td>1799                     </td><td>NA                       </td><td>BROADWAY/CANYON BLVD     </td><td>350                      </td><td>M                        </td><td>W                        </td><td>N                        </td><td>1958                     </td><td>N                        </td><td>2866                     </td></tr>\n",
       "\t<tr><td> 12/31/2017              </td><td>2213                     </td><td>1900                     </td><td>NA                       </td><td>IRIS AVE                 </td><td> 10                      </td><td>F                        </td><td>W                        </td><td>N                        </td><td>2000                     </td><td>N                        </td><td>2867                     </td></tr>\n",
       "</tbody>\n",
       "</table>\n"
      ],
      "text/latex": [
       "\\begin{tabular}{r|llllllllllll}\n",
       " stopdate & stoptime & streetnbr & streetdir & street & Min & sex & race & ethnic & Year.of.birth & enfaction & rpmainid\\\\\n",
       "\\hline\n",
       "\t  01/01/2018               & 1619                      & 4561                      & NA                        & ARAPAHOE AVE/MACARTHUR DR &   5                       & M                         & W                         & N                         & 1976                      & Y                         & 2862                     \\\\\n",
       "\t  01/01/2018               & 1630                      & 6600                      & NA                        & ARAPAHOE AVE              &  10                       & M                         & W                         & N                         & 2000                      & N                         & 2863                     \\\\\n",
       "\t  12/31/2017               &  214                      & 1799                      & NA                        & BROADWAY/CANYON BLVD      &  35                       & M                         & W                         & N                         & 1991                      & N                         & 2864                     \\\\\n",
       "\t  12/31/2017               &  214                      & 1799                      & NA                        & BROADWAY/CANYON BLVD      &  35                       & M                         & W                         & N                         & 1992                      & N                         & 2865                     \\\\\n",
       "\t  12/31/2017               &  214                      & 1799                      & NA                        & BROADWAY/CANYON BLVD      & 350                       & M                         & W                         & N                         & 1958                      & N                         & 2866                     \\\\\n",
       "\t  12/31/2017               & 2213                      & 1900                      & NA                        & IRIS AVE                  &  10                       & F                         & W                         & N                         & 2000                      & N                         & 2867                     \\\\\n",
       "\\end{tabular}\n"
      ],
      "text/markdown": [
       "\n",
       "| stopdate | stoptime | streetnbr | streetdir | street | Min | sex | race | ethnic | Year.of.birth | enfaction | rpmainid |\n",
       "|---|---|---|---|---|---|---|---|---|---|---|---|\n",
       "|  01/01/2018               | 1619                      | 4561                      | NA                        | ARAPAHOE AVE/MACARTHUR DR |   5                       | M                         | W                         | N                         | 1976                      | Y                         | 2862                      |\n",
       "|  01/01/2018               | 1630                      | 6600                      | NA                        | ARAPAHOE AVE              |  10                       | M                         | W                         | N                         | 2000                      | N                         | 2863                      |\n",
       "|  12/31/2017               |  214                      | 1799                      | NA                        | BROADWAY/CANYON BLVD      |  35                       | M                         | W                         | N                         | 1991                      | N                         | 2864                      |\n",
       "|  12/31/2017               |  214                      | 1799                      | NA                        | BROADWAY/CANYON BLVD      |  35                       | M                         | W                         | N                         | 1992                      | N                         | 2865                      |\n",
       "|  12/31/2017               |  214                      | 1799                      | NA                        | BROADWAY/CANYON BLVD      | 350                       | M                         | W                         | N                         | 1958                      | N                         | 2866                      |\n",
       "|  12/31/2017               | 2213                      | 1900                      | NA                        | IRIS AVE                  |  10                       | F                         | W                         | N                         | 2000                      | N                         | 2867                      |\n",
       "\n"
      ],
      "text/plain": [
       "  stopdate    stoptime streetnbr streetdir street                    Min sex\n",
       "1  01/01/2018 1619     4561      NA        ARAPAHOE AVE/MACARTHUR DR   5 M  \n",
       "2  01/01/2018 1630     6600      NA        ARAPAHOE AVE               10 M  \n",
       "3  12/31/2017  214     1799      NA        BROADWAY/CANYON BLVD       35 M  \n",
       "4  12/31/2017  214     1799      NA        BROADWAY/CANYON BLVD       35 M  \n",
       "5  12/31/2017  214     1799      NA        BROADWAY/CANYON BLVD      350 M  \n",
       "6  12/31/2017 2213     1900      NA        IRIS AVE                   10 F  \n",
       "  race ethnic Year.of.birth enfaction rpmainid\n",
       "1 W    N      1976          Y         2862    \n",
       "2 W    N      2000          N         2863    \n",
       "3 W    N      1991          N         2864    \n",
       "4 W    N      1992          N         2865    \n",
       "5 W    N      1958          N         2866    \n",
       "6 W    N      2000          N         2867    "
      ]
     },
     "metadata": {},
     "output_type": "display_data"
    }
   ],
   "source": [
    "colnames(df_stops)\n",
    "\n",
    "str(df_stops)\n",
    "\n",
    "head(df_stops)"
   ]
  },
  {
   "cell_type": "code",
   "execution_count": null,
   "metadata": {},
   "outputs": [],
   "source": []
  },
  {
   "cell_type": "code",
   "execution_count": 203,
   "metadata": {},
   "outputs": [
    {
     "data": {
      "text/html": [
       "<table>\n",
       "<thead><tr><th scope=col>type</th><th scope=col>variable</th><th scope=col>missing</th><th scope=col>complete</th><th scope=col>n</th><th scope=col>n_unique</th><th scope=col>top_counts</th><th scope=col>ordered</th><th scope=col>mean</th><th scope=col>sd</th><th scope=col>p0</th><th scope=col>p25</th><th scope=col>p50</th><th scope=col>p75</th><th scope=col>p100</th><th scope=col>hist</th><th scope=col>count</th></tr></thead>\n",
       "<tbody>\n",
       "\t<tr><td>factor                                                          </td><td>enfaction                                                       </td><td>123                                                             </td><td>7923                                                            </td><td>8046                                                            </td><td>2                                                               </td><td>N: 4553, Y: 3370, NA: 123                                       </td><td>FALSE                                                           </td><td>NA                                                              </td><td>NA                                                              </td><td>NA                                                              </td><td>NA                                                              </td><td>NA                                                              </td><td>NA                                                              </td><td>NA                                                              </td><td>NA                                                              </td><td>NA                                                              </td></tr>\n",
       "\t<tr><td>factor                                                          </td><td>ethnic                                                          </td><td>0                                                               </td><td>8046                                                            </td><td>8046                                                            </td><td>2                                                               </td><td>N: 7383, H: 663, NA: 0                                          </td><td>FALSE                                                           </td><td>NA                                                              </td><td>NA                                                              </td><td>NA                                                              </td><td>NA                                                              </td><td>NA                                                              </td><td>NA                                                              </td><td>NA                                                              </td><td>NA                                                              </td><td>NA                                                              </td></tr>\n",
       "\t<tr><td>factor                                                          </td><td>race                                                            </td><td>0                                                               </td><td>8046                                                            </td><td>8046                                                            </td><td>5                                                               </td><td>W: 7352, B: 346, A: 306, I: 33                                  </td><td>FALSE                                                           </td><td>NA                                                              </td><td>NA                                                              </td><td>NA                                                              </td><td>NA                                                              </td><td>NA                                                              </td><td>NA                                                              </td><td>NA                                                              </td><td>NA                                                              </td><td>NA                                                              </td></tr>\n",
       "\t<tr><td>factor                                                          </td><td>sex                                                             </td><td>0                                                               </td><td>8046                                                            </td><td>8046                                                            </td><td>2                                                               </td><td>M: 5301, F: 2745, NA: 0                                         </td><td>FALSE                                                           </td><td>NA                                                              </td><td>NA                                                              </td><td>NA                                                              </td><td>NA                                                              </td><td>NA                                                              </td><td>NA                                                              </td><td>NA                                                              </td><td>NA                                                              </td><td>NA                                                              </td></tr>\n",
       "\t<tr><td>factor                                                          </td><td>stopdate                                                        </td><td>0                                                               </td><td>8046                                                            </td><td>8046                                                            </td><td>368                                                             </td><td> 03: 86,  03: 63,  10: 63,  02: 58                              </td><td>FALSE                                                           </td><td>NA                                                              </td><td>NA                                                              </td><td>NA                                                              </td><td>NA                                                              </td><td>NA                                                              </td><td>NA                                                              </td><td>NA                                                              </td><td>NA                                                              </td><td>NA                                                              </td></tr>\n",
       "\t<tr><td>factor                                                          </td><td>street                                                          </td><td>67                                                              </td><td>7979                                                            </td><td>8046                                                            </td><td>1286                                                            </td><td>ARA: 364, CAN: 289, 30T: 222, FOO: 186                          </td><td>FALSE                                                           </td><td>NA                                                              </td><td>NA                                                              </td><td>NA                                                              </td><td>NA                                                              </td><td>NA                                                              </td><td>NA                                                              </td><td>NA                                                              </td><td>NA                                                              </td><td>NA                                                              </td></tr>\n",
       "\t<tr><td>factor                                                          </td><td>streetnbr                                                       </td><td>1945                                                            </td><td>6101                                                            </td><td>8046                                                            </td><td>611                                                             </td><td>NA: 1945, 698: 157, 899: 127, 119: 126                          </td><td>FALSE                                                           </td><td>NA                                                              </td><td>NA                                                              </td><td>NA                                                              </td><td>NA                                                              </td><td>NA                                                              </td><td>NA                                                              </td><td>NA                                                              </td><td>NA                                                              </td><td>NA                                                              </td></tr>\n",
       "\t<tr><td>integer                                                                                                         </td><td><span style=white-space:pre-wrap>Min          </span>                                                           </td><td><span style=white-space:pre-wrap>0   </span>                                                                    </td><td>8046                                                                                                            </td><td>8046                                                                                                            </td><td><span style=white-space:pre-wrap>NA  </span>                                                                    </td><td><span style=white-space:pre-wrap>NA                                    </span>                                  </td><td><span style=white-space:pre-wrap>NA   </span>                                                                   </td><td><span style=white-space:pre-wrap>  11.42</span>                                                                 </td><td><span style=white-space:pre-wrap>  12.23</span>                                                                 </td><td><span style=white-space:pre-wrap>0   </span>                                                                    </td><td><span style=white-space:pre-wrap>   8   </span>                                                                 </td><td><span style=white-space:pre-wrap>  10  </span>                                                                  </td><td><span style=white-space:pre-wrap>  10   </span>                                                                 </td><td><span style=white-space:pre-wrap>460  </span>                                                                   </td><td>&lt;U+2587&gt;&lt;U+2581&gt;&lt;U+2581&gt;&lt;U+2581&gt;&lt;U+2581&gt;&lt;U+2581&gt;&lt;U+2581&gt;&lt;U+2581&gt;</td><td><span style=white-space:pre-wrap>NA  </span>                                                                    </td></tr>\n",
       "\t<tr><td>integer                                                                                                         </td><td><span style=white-space:pre-wrap>rpmainid     </span>                                                           </td><td><span style=white-space:pre-wrap>0   </span>                                                                    </td><td>8046                                                                                                            </td><td>8046                                                                                                            </td><td><span style=white-space:pre-wrap>NA  </span>                                                                    </td><td><span style=white-space:pre-wrap>NA                                    </span>                                  </td><td><span style=white-space:pre-wrap>NA   </span>                                                                   </td><td>6999.12                                                                                                         </td><td>2373.4                                                                                                          </td><td>2862                                                                                                            </td><td>4939.25                                                                                                         </td><td>7010.5                                                                                                          </td><td>9055.75                                                                                                         </td><td>11095                                                                                                           </td><td>&lt;U+2587&gt;&lt;U+2587&gt;&lt;U+2587&gt;&lt;U+2587&gt;&lt;U+2587&gt;&lt;U+2587&gt;&lt;U+2587&gt;&lt;U+2587&gt;</td><td><span style=white-space:pre-wrap>NA  </span>                                                                    </td></tr>\n",
       "\t<tr><td>integer                                                                                                         </td><td><span style=white-space:pre-wrap>stoptime     </span>                                                           </td><td><span style=white-space:pre-wrap>0   </span>                                                                    </td><td>8046                                                                                                            </td><td>8046                                                                                                            </td><td><span style=white-space:pre-wrap>NA  </span>                                                                    </td><td><span style=white-space:pre-wrap>NA                                    </span>                                  </td><td><span style=white-space:pre-wrap>NA   </span>                                                                   </td><td>1268.23                                                                                                         </td><td> 635.42                                                                                                         </td><td><span style=white-space:pre-wrap>0   </span>                                                                    </td><td><span style=white-space:pre-wrap> 915   </span>                                                                 </td><td>1242.5                                                                                                          </td><td><span style=white-space:pre-wrap>1715   </span>                                                                 </td><td>2359                                                                                                            </td><td>&lt;U+2585&gt;&lt;U+2581&gt;&lt;U+2583&gt;&lt;U+2587&gt;&lt;U+2587&gt;&lt;U+2586&gt;&lt;U+2583&gt;&lt;U+2586&gt;</td><td><span style=white-space:pre-wrap>NA  </span>                                                                    </td></tr>\n",
       "\t<tr><td>integer                                                                                                         </td><td>Year.of.birth                                                                                                   </td><td><span style=white-space:pre-wrap>0   </span>                                                                    </td><td>8046                                                                                                            </td><td>8046                                                                                                            </td><td><span style=white-space:pre-wrap>NA  </span>                                                                    </td><td><span style=white-space:pre-wrap>NA                                    </span>                                  </td><td><span style=white-space:pre-wrap>NA   </span>                                                                   </td><td>1975.54                                                                                                         </td><td> 112.17                                                                                                         </td><td><span style=white-space:pre-wrap>0   </span>                                                                    </td><td><span style=white-space:pre-wrap>1971   </span>                                                                 </td><td><span style=white-space:pre-wrap>1986  </span>                                                                  </td><td><span style=white-space:pre-wrap>1994   </span>                                                                 </td><td>2998                                                                                                            </td><td>&lt;U+2581&gt;&lt;U+2581&gt;&lt;U+2581&gt;&lt;U+2581&gt;&lt;U+2581&gt;&lt;U+2587&gt;&lt;U+2581&gt;&lt;U+2581&gt;</td><td><span style=white-space:pre-wrap>NA  </span>                                                                    </td></tr>\n",
       "\t<tr><td>logical                                                         </td><td>streetdir                                                       </td><td>8046                                                            </td><td>0                                                               </td><td>8046                                                            </td><td>NA                                                              </td><td>NA                                                              </td><td>NA                                                              </td><td>NaN                                                             </td><td>NA                                                              </td><td>NA                                                              </td><td>NA                                                              </td><td>NA                                                              </td><td>NA                                                              </td><td>NA                                                              </td><td>NA                                                              </td><td>8046                                                            </td></tr>\n",
       "</tbody>\n",
       "</table>\n"
      ],
      "text/latex": [
       "\\begin{tabular}{r|lllllllllllllllll}\n",
       " type & variable & missing & complete & n & n\\_unique & top\\_counts & ordered & mean & sd & p0 & p25 & p50 & p75 & p100 & hist & count\\\\\n",
       "\\hline\n",
       "\t factor                                                           & enfaction                                                        & 123                                                              & 7923                                                             & 8046                                                             & 2                                                                & N: 4553, Y: 3370, NA: 123                                        & FALSE                                                            & NA                                                               & NA                                                               & NA                                                               & NA                                                               & NA                                                               & NA                                                               & NA                                                               & NA                                                               & NA                                                              \\\\\n",
       "\t factor                                                           & ethnic                                                           & 0                                                                & 8046                                                             & 8046                                                             & 2                                                                & N: 7383, H: 663, NA: 0                                           & FALSE                                                            & NA                                                               & NA                                                               & NA                                                               & NA                                                               & NA                                                               & NA                                                               & NA                                                               & NA                                                               & NA                                                              \\\\\n",
       "\t factor                                                           & race                                                             & 0                                                                & 8046                                                             & 8046                                                             & 5                                                                & W: 7352, B: 346, A: 306, I: 33                                   & FALSE                                                            & NA                                                               & NA                                                               & NA                                                               & NA                                                               & NA                                                               & NA                                                               & NA                                                               & NA                                                               & NA                                                              \\\\\n",
       "\t factor                                                           & sex                                                              & 0                                                                & 8046                                                             & 8046                                                             & 2                                                                & M: 5301, F: 2745, NA: 0                                          & FALSE                                                            & NA                                                               & NA                                                               & NA                                                               & NA                                                               & NA                                                               & NA                                                               & NA                                                               & NA                                                               & NA                                                              \\\\\n",
       "\t factor                                                           & stopdate                                                         & 0                                                                & 8046                                                             & 8046                                                             & 368                                                              &  03: 86,  03: 63,  10: 63,  02: 58                               & FALSE                                                            & NA                                                               & NA                                                               & NA                                                               & NA                                                               & NA                                                               & NA                                                               & NA                                                               & NA                                                               & NA                                                              \\\\\n",
       "\t factor                                                           & street                                                           & 67                                                               & 7979                                                             & 8046                                                             & 1286                                                             & ARA: 364, CAN: 289, 30T: 222, FOO: 186                           & FALSE                                                            & NA                                                               & NA                                                               & NA                                                               & NA                                                               & NA                                                               & NA                                                               & NA                                                               & NA                                                               & NA                                                              \\\\\n",
       "\t factor                                                           & streetnbr                                                        & 1945                                                             & 6101                                                             & 8046                                                             & 611                                                              & NA: 1945, 698: 157, 899: 127, 119: 126                           & FALSE                                                            & NA                                                               & NA                                                               & NA                                                               & NA                                                               & NA                                                               & NA                                                               & NA                                                               & NA                                                               & NA                                                              \\\\\n",
       "\t integer                                                          & Min                                                              & 0                                                                & 8046                                                             & 8046                                                             & NA                                                               & NA                                                               & NA                                                               &   11.42                                                          &   12.23                                                          & 0                                                                &    8                                                             &   10                                                             &   10                                                             & 460                                                              & <U+2587><U+2581><U+2581><U+2581><U+2581><U+2581><U+2581><U+2581> & NA                                                              \\\\\n",
       "\t integer                                                          & rpmainid                                                         & 0                                                                & 8046                                                             & 8046                                                             & NA                                                               & NA                                                               & NA                                                               & 6999.12                                                          & 2373.4                                                           & 2862                                                             & 4939.25                                                          & 7010.5                                                           & 9055.75                                                          & 11095                                                            & <U+2587><U+2587><U+2587><U+2587><U+2587><U+2587><U+2587><U+2587> & NA                                                              \\\\\n",
       "\t integer                                                          & stoptime                                                         & 0                                                                & 8046                                                             & 8046                                                             & NA                                                               & NA                                                               & NA                                                               & 1268.23                                                          &  635.42                                                          & 0                                                                &  915                                                             & 1242.5                                                           & 1715                                                             & 2359                                                             & <U+2585><U+2581><U+2583><U+2587><U+2587><U+2586><U+2583><U+2586> & NA                                                              \\\\\n",
       "\t integer                                                          & Year.of.birth                                                    & 0                                                                & 8046                                                             & 8046                                                             & NA                                                               & NA                                                               & NA                                                               & 1975.54                                                          &  112.17                                                          & 0                                                                & 1971                                                             & 1986                                                             & 1994                                                             & 2998                                                             & <U+2581><U+2581><U+2581><U+2581><U+2581><U+2587><U+2581><U+2581> & NA                                                              \\\\\n",
       "\t logical                                                          & streetdir                                                        & 8046                                                             & 0                                                                & 8046                                                             & NA                                                               & NA                                                               & NA                                                               & NaN                                                              & NA                                                               & NA                                                               & NA                                                               & NA                                                               & NA                                                               & NA                                                               & NA                                                               & 8046                                                            \\\\\n",
       "\\end{tabular}\n"
      ],
      "text/markdown": [
       "\n",
       "| type | variable | missing | complete | n | n_unique | top_counts | ordered | mean | sd | p0 | p25 | p50 | p75 | p100 | hist | count |\n",
       "|---|---|---|---|---|---|---|---|---|---|---|---|---|---|---|---|---|\n",
       "| factor                                                           | enfaction                                                        | 123                                                              | 7923                                                             | 8046                                                             | 2                                                                | N: 4553, Y: 3370, NA: 123                                        | FALSE                                                            | NA                                                               | NA                                                               | NA                                                               | NA                                                               | NA                                                               | NA                                                               | NA                                                               | NA                                                               | NA                                                               |\n",
       "| factor                                                           | ethnic                                                           | 0                                                                | 8046                                                             | 8046                                                             | 2                                                                | N: 7383, H: 663, NA: 0                                           | FALSE                                                            | NA                                                               | NA                                                               | NA                                                               | NA                                                               | NA                                                               | NA                                                               | NA                                                               | NA                                                               | NA                                                               |\n",
       "| factor                                                           | race                                                             | 0                                                                | 8046                                                             | 8046                                                             | 5                                                                | W: 7352, B: 346, A: 306, I: 33                                   | FALSE                                                            | NA                                                               | NA                                                               | NA                                                               | NA                                                               | NA                                                               | NA                                                               | NA                                                               | NA                                                               | NA                                                               |\n",
       "| factor                                                           | sex                                                              | 0                                                                | 8046                                                             | 8046                                                             | 2                                                                | M: 5301, F: 2745, NA: 0                                          | FALSE                                                            | NA                                                               | NA                                                               | NA                                                               | NA                                                               | NA                                                               | NA                                                               | NA                                                               | NA                                                               | NA                                                               |\n",
       "| factor                                                           | stopdate                                                         | 0                                                                | 8046                                                             | 8046                                                             | 368                                                              |  03: 86,  03: 63,  10: 63,  02: 58                               | FALSE                                                            | NA                                                               | NA                                                               | NA                                                               | NA                                                               | NA                                                               | NA                                                               | NA                                                               | NA                                                               | NA                                                               |\n",
       "| factor                                                           | street                                                           | 67                                                               | 7979                                                             | 8046                                                             | 1286                                                             | ARA: 364, CAN: 289, 30T: 222, FOO: 186                           | FALSE                                                            | NA                                                               | NA                                                               | NA                                                               | NA                                                               | NA                                                               | NA                                                               | NA                                                               | NA                                                               | NA                                                               |\n",
       "| factor                                                           | streetnbr                                                        | 1945                                                             | 6101                                                             | 8046                                                             | 611                                                              | NA: 1945, 698: 157, 899: 127, 119: 126                           | FALSE                                                            | NA                                                               | NA                                                               | NA                                                               | NA                                                               | NA                                                               | NA                                                               | NA                                                               | NA                                                               | NA                                                               |\n",
       "| integer                                                          | Min                                                              | 0                                                                | 8046                                                             | 8046                                                             | NA                                                               | NA                                                               | NA                                                               |   11.42                                                          |   12.23                                                          | 0                                                                |    8                                                             |   10                                                             |   10                                                             | 460                                                              | <U+2587><U+2581><U+2581><U+2581><U+2581><U+2581><U+2581><U+2581> | NA                                                               |\n",
       "| integer                                                          | rpmainid                                                         | 0                                                                | 8046                                                             | 8046                                                             | NA                                                               | NA                                                               | NA                                                               | 6999.12                                                          | 2373.4                                                           | 2862                                                             | 4939.25                                                          | 7010.5                                                           | 9055.75                                                          | 11095                                                            | <U+2587><U+2587><U+2587><U+2587><U+2587><U+2587><U+2587><U+2587> | NA                                                               |\n",
       "| integer                                                          | stoptime                                                         | 0                                                                | 8046                                                             | 8046                                                             | NA                                                               | NA                                                               | NA                                                               | 1268.23                                                          |  635.42                                                          | 0                                                                |  915                                                             | 1242.5                                                           | 1715                                                             | 2359                                                             | <U+2585><U+2581><U+2583><U+2587><U+2587><U+2586><U+2583><U+2586> | NA                                                               |\n",
       "| integer                                                          | Year.of.birth                                                    | 0                                                                | 8046                                                             | 8046                                                             | NA                                                               | NA                                                               | NA                                                               | 1975.54                                                          |  112.17                                                          | 0                                                                | 1971                                                             | 1986                                                             | 1994                                                             | 2998                                                             | <U+2581><U+2581><U+2581><U+2581><U+2581><U+2587><U+2581><U+2581> | NA                                                               |\n",
       "| logical                                                          | streetdir                                                        | 8046                                                             | 0                                                                | 8046                                                             | NA                                                               | NA                                                               | NA                                                               | NaN                                                              | NA                                                               | NA                                                               | NA                                                               | NA                                                               | NA                                                               | NA                                                               | NA                                                               | 8046                                                             |\n",
       "\n"
      ],
      "text/plain": [
       "   type    variable      missing complete n    n_unique\n",
       "1  factor  enfaction     123     7923     8046 2       \n",
       "2  factor  ethnic        0       8046     8046 2       \n",
       "3  factor  race          0       8046     8046 5       \n",
       "4  factor  sex           0       8046     8046 2       \n",
       "5  factor  stopdate      0       8046     8046 368     \n",
       "6  factor  street        67      7979     8046 1286    \n",
       "7  factor  streetnbr     1945    6101     8046 611     \n",
       "8  integer Min           0       8046     8046 NA      \n",
       "9  integer rpmainid      0       8046     8046 NA      \n",
       "10 integer stoptime      0       8046     8046 NA      \n",
       "11 integer Year.of.birth 0       8046     8046 NA      \n",
       "12 logical streetdir     8046    0        8046 NA      \n",
       "   top_counts                             ordered mean    sd      p0   p25    \n",
       "1  N: 4553, Y: 3370, NA: 123              FALSE   NA      NA      NA   NA     \n",
       "2  N: 7383, H: 663, NA: 0                 FALSE   NA      NA      NA   NA     \n",
       "3  W: 7352, B: 346, A: 306, I: 33         FALSE   NA      NA      NA   NA     \n",
       "4  M: 5301, F: 2745, NA: 0                FALSE   NA      NA      NA   NA     \n",
       "5   03: 86,  03: 63,  10: 63,  02: 58     FALSE   NA      NA      NA   NA     \n",
       "6  ARA: 364, CAN: 289, 30T: 222, FOO: 186 FALSE   NA      NA      NA   NA     \n",
       "7  NA: 1945, 698: 157, 899: 127, 119: 126 FALSE   NA      NA      NA   NA     \n",
       "8  NA                                     NA        11.42   12.23 0       8   \n",
       "9  NA                                     NA      6999.12 2373.4  2862 4939.25\n",
       "10 NA                                     NA      1268.23  635.42 0     915   \n",
       "11 NA                                     NA      1975.54  112.17 0    1971   \n",
       "12 NA                                     NA      NaN     NA      NA   NA     \n",
       "   p50    p75     p100 \n",
       "1  NA     NA      NA   \n",
       "2  NA     NA      NA   \n",
       "3  NA     NA      NA   \n",
       "4  NA     NA      NA   \n",
       "5  NA     NA      NA   \n",
       "6  NA     NA      NA   \n",
       "7  NA     NA      NA   \n",
       "8    10     10    460  \n",
       "9  7010.5 9055.75 11095\n",
       "10 1242.5 1715    2359 \n",
       "11 1986   1994    2998 \n",
       "12 NA     NA      NA   \n",
       "   hist                                                             count\n",
       "1  NA                                                               NA   \n",
       "2  NA                                                               NA   \n",
       "3  NA                                                               NA   \n",
       "4  NA                                                               NA   \n",
       "5  NA                                                               NA   \n",
       "6  NA                                                               NA   \n",
       "7  NA                                                               NA   \n",
       "8  <U+2587><U+2581><U+2581><U+2581><U+2581><U+2581><U+2581><U+2581> NA   \n",
       "9  <U+2587><U+2587><U+2587><U+2587><U+2587><U+2587><U+2587><U+2587> NA   \n",
       "10 <U+2585><U+2581><U+2583><U+2587><U+2587><U+2586><U+2583><U+2586> NA   \n",
       "11 <U+2581><U+2581><U+2581><U+2581><U+2581><U+2587><U+2581><U+2581> NA   \n",
       "12 NA                                                               8046 "
      ]
     },
     "metadata": {},
     "output_type": "display_data"
    }
   ],
   "source": [
    "library(skimr) #for easy descriptive statistics\n",
    "skim_to_wide(df_stops)"
   ]
  },
  {
   "cell_type": "code",
   "execution_count": 160,
   "metadata": {},
   "outputs": [],
   "source": [
    "# library(tidyr)\n",
    "df_stops <- df_stops %>% drop_na(sex, race,ethnic)"
   ]
  },
  {
   "cell_type": "code",
   "execution_count": 161,
   "metadata": {},
   "outputs": [
    {
     "name": "stdout",
     "output_type": "stream",
     "text": [
      "In 2018, Boulder had this many traffic stops: 8046"
     ]
    }
   ],
   "source": [
    "cat('In 2018, Boulder had this many traffic stops:',nrow(df_stops))"
   ]
  },
  {
   "cell_type": "markdown",
   "metadata": {},
   "source": [
    "## Check for NANs"
   ]
  },
  {
   "cell_type": "code",
   "execution_count": 162,
   "metadata": {},
   "outputs": [
    {
     "data": {
      "text/html": [
       "TRUE"
      ],
      "text/latex": [
       "TRUE"
      ],
      "text/markdown": [
       "TRUE"
      ],
      "text/plain": [
       "[1] TRUE"
      ]
     },
     "metadata": {},
     "output_type": "display_data"
    },
    {
     "data": {
      "text/html": [
       "<dl class=dl-horizontal>\n",
       "\t<dt>stopdate</dt>\n",
       "\t\t<dd>0</dd>\n",
       "\t<dt>stoptime</dt>\n",
       "\t\t<dd>0</dd>\n",
       "\t<dt>streetnbr</dt>\n",
       "\t\t<dd>1945</dd>\n",
       "\t<dt>streetdir</dt>\n",
       "\t\t<dd>8046</dd>\n",
       "\t<dt>street</dt>\n",
       "\t\t<dd>67</dd>\n",
       "\t<dt>Min</dt>\n",
       "\t\t<dd>0</dd>\n",
       "\t<dt>sex</dt>\n",
       "\t\t<dd>0</dd>\n",
       "\t<dt>race</dt>\n",
       "\t\t<dd>0</dd>\n",
       "\t<dt>ethnic</dt>\n",
       "\t\t<dd>0</dd>\n",
       "\t<dt>Year.of.birth</dt>\n",
       "\t\t<dd>0</dd>\n",
       "\t<dt>enfaction</dt>\n",
       "\t\t<dd>123</dd>\n",
       "\t<dt>rpmainid</dt>\n",
       "\t\t<dd>0</dd>\n",
       "</dl>\n"
      ],
      "text/latex": [
       "\\begin{description*}\n",
       "\\item[stopdate] 0\n",
       "\\item[stoptime] 0\n",
       "\\item[streetnbr] 1945\n",
       "\\item[streetdir] 8046\n",
       "\\item[street] 67\n",
       "\\item[Min] 0\n",
       "\\item[sex] 0\n",
       "\\item[race] 0\n",
       "\\item[ethnic] 0\n",
       "\\item[Year.of.birth] 0\n",
       "\\item[enfaction] 123\n",
       "\\item[rpmainid] 0\n",
       "\\end{description*}\n"
      ],
      "text/markdown": [
       "stopdate\n",
       ":   0stoptime\n",
       ":   0streetnbr\n",
       ":   1945streetdir\n",
       ":   8046street\n",
       ":   67Min\n",
       ":   0sex\n",
       ":   0race\n",
       ":   0ethnic\n",
       ":   0Year.of.birth\n",
       ":   0enfaction\n",
       ":   123rpmainid\n",
       ":   0\n",
       "\n"
      ],
      "text/plain": [
       "     stopdate      stoptime     streetnbr     streetdir        street \n",
       "            0             0          1945          8046            67 \n",
       "          Min           sex          race        ethnic Year.of.birth \n",
       "            0             0             0             0             0 \n",
       "    enfaction      rpmainid \n",
       "          123             0 "
      ]
     },
     "metadata": {},
     "output_type": "display_data"
    }
   ],
   "source": [
    "## Check for NAs\n",
    "anyNA(df_stops)\n",
    "sapply(df_stops,function(x) sum(is.na(x)))"
   ]
  },
  {
   "cell_type": "markdown",
   "metadata": {},
   "source": [
    "### Filter rows that meet a condition\n",
    "filter is for rows, select is for columns"
   ]
  },
  {
   "cell_type": "code",
   "execution_count": 163,
   "metadata": {},
   "outputs": [
    {
     "data": {
      "text/html": [
       "7744"
      ],
      "text/latex": [
       "7744"
      ],
      "text/markdown": [
       "7744"
      ],
      "text/plain": [
       "[1] 7744"
      ]
     },
     "metadata": {},
     "output_type": "display_data"
    }
   ],
   "source": [
    "youth_stops <- filter(df_stops, Year.of.birth < 2000)\n",
    "nrow(youth_stops)"
   ]
  },
  {
   "cell_type": "markdown",
   "metadata": {},
   "source": [
    "### Filter out specified columns\n",
    "Returns a new df with just these 2 columns"
   ]
  },
  {
   "cell_type": "code",
   "execution_count": 164,
   "metadata": {},
   "outputs": [
    {
     "data": {
      "text/html": [
       "<table>\n",
       "<thead><tr><th scope=col>stopdate</th><th scope=col>Min</th><th scope=col>sex</th><th scope=col>race</th><th scope=col>ethnic</th><th scope=col>Year.of.birth</th><th scope=col>rpmainid</th></tr></thead>\n",
       "<tbody>\n",
       "\t<tr><td> 01/01/2018</td><td>  5        </td><td>M          </td><td>W          </td><td>N          </td><td>1976       </td><td>2862       </td></tr>\n",
       "\t<tr><td> 01/01/2018</td><td> 10        </td><td>M          </td><td>W          </td><td>N          </td><td>2000       </td><td>2863       </td></tr>\n",
       "\t<tr><td> 12/31/2017</td><td> 35        </td><td>M          </td><td>W          </td><td>N          </td><td>1991       </td><td>2864       </td></tr>\n",
       "\t<tr><td> 12/31/2017</td><td> 35        </td><td>M          </td><td>W          </td><td>N          </td><td>1992       </td><td>2865       </td></tr>\n",
       "\t<tr><td> 12/31/2017</td><td>350        </td><td>M          </td><td>W          </td><td>N          </td><td>1958       </td><td>2866       </td></tr>\n",
       "\t<tr><td> 12/31/2017</td><td> 10        </td><td>F          </td><td>W          </td><td>N          </td><td>2000       </td><td>2867       </td></tr>\n",
       "</tbody>\n",
       "</table>\n"
      ],
      "text/latex": [
       "\\begin{tabular}{r|lllllll}\n",
       " stopdate & Min & sex & race & ethnic & Year.of.birth & rpmainid\\\\\n",
       "\\hline\n",
       "\t  01/01/2018 &   5         & M           & W           & N           & 1976        & 2862       \\\\\n",
       "\t  01/01/2018 &  10         & M           & W           & N           & 2000        & 2863       \\\\\n",
       "\t  12/31/2017 &  35         & M           & W           & N           & 1991        & 2864       \\\\\n",
       "\t  12/31/2017 &  35         & M           & W           & N           & 1992        & 2865       \\\\\n",
       "\t  12/31/2017 & 350         & M           & W           & N           & 1958        & 2866       \\\\\n",
       "\t  12/31/2017 &  10         & F           & W           & N           & 2000        & 2867       \\\\\n",
       "\\end{tabular}\n"
      ],
      "text/markdown": [
       "\n",
       "| stopdate | Min | sex | race | ethnic | Year.of.birth | rpmainid |\n",
       "|---|---|---|---|---|---|---|\n",
       "|  01/01/2018 |   5         | M           | W           | N           | 1976        | 2862        |\n",
       "|  01/01/2018 |  10         | M           | W           | N           | 2000        | 2863        |\n",
       "|  12/31/2017 |  35         | M           | W           | N           | 1991        | 2864        |\n",
       "|  12/31/2017 |  35         | M           | W           | N           | 1992        | 2865        |\n",
       "|  12/31/2017 | 350         | M           | W           | N           | 1958        | 2866        |\n",
       "|  12/31/2017 |  10         | F           | W           | N           | 2000        | 2867        |\n",
       "\n"
      ],
      "text/plain": [
       "  stopdate    Min sex race ethnic Year.of.birth rpmainid\n",
       "1  01/01/2018   5 M   W    N      1976          2862    \n",
       "2  01/01/2018  10 M   W    N      2000          2863    \n",
       "3  12/31/2017  35 M   W    N      1991          2864    \n",
       "4  12/31/2017  35 M   W    N      1992          2865    \n",
       "5  12/31/2017 350 M   W    N      1958          2866    \n",
       "6  12/31/2017  10 F   W    N      2000          2867    "
      ]
     },
     "metadata": {},
     "output_type": "display_data"
    }
   ],
   "source": [
    "df_stops_subset <- select(df_stops, stopdate, Min, sex,race,ethnic,Year.of.birth,rpmainid) \n",
    "head(df_stops_subset)"
   ]
  },
  {
   "cell_type": "code",
   "execution_count": 165,
   "metadata": {},
   "outputs": [
    {
     "data": {
      "text/html": [
       "<table>\n",
       "<thead><tr><th scope=col>stopdate</th><th scope=col>Min</th><th scope=col>sex</th><th scope=col>race</th><th scope=col>ethnic</th><th scope=col>Year.of.birth</th><th scope=col>rpmainid</th><th scope=col>stop_month</th><th scope=col>stop_year</th></tr></thead>\n",
       "<tbody>\n",
       "\t<tr><td> 01/01/2018</td><td>  5        </td><td>M          </td><td>W          </td><td>N          </td><td>1976       </td><td>2862       </td><td> 1         </td><td>2018       </td></tr>\n",
       "\t<tr><td> 01/01/2018</td><td> 10        </td><td>M          </td><td>W          </td><td>N          </td><td>2000       </td><td>2863       </td><td> 1         </td><td>2018       </td></tr>\n",
       "\t<tr><td> 12/31/2017</td><td> 35        </td><td>M          </td><td>W          </td><td>N          </td><td>1991       </td><td>2864       </td><td>12         </td><td>2017       </td></tr>\n",
       "\t<tr><td> 12/31/2017</td><td> 35        </td><td>M          </td><td>W          </td><td>N          </td><td>1992       </td><td>2865       </td><td>12         </td><td>2017       </td></tr>\n",
       "\t<tr><td> 12/31/2017</td><td>350        </td><td>M          </td><td>W          </td><td>N          </td><td>1958       </td><td>2866       </td><td>12         </td><td>2017       </td></tr>\n",
       "\t<tr><td> 12/31/2017</td><td> 10        </td><td>F          </td><td>W          </td><td>N          </td><td>2000       </td><td>2867       </td><td>12         </td><td>2017       </td></tr>\n",
       "</tbody>\n",
       "</table>\n"
      ],
      "text/latex": [
       "\\begin{tabular}{r|lllllllll}\n",
       " stopdate & Min & sex & race & ethnic & Year.of.birth & rpmainid & stop\\_month & stop\\_year\\\\\n",
       "\\hline\n",
       "\t  01/01/2018 &   5         & M           & W           & N           & 1976        & 2862        &  1          & 2018       \\\\\n",
       "\t  01/01/2018 &  10         & M           & W           & N           & 2000        & 2863        &  1          & 2018       \\\\\n",
       "\t  12/31/2017 &  35         & M           & W           & N           & 1991        & 2864        & 12          & 2017       \\\\\n",
       "\t  12/31/2017 &  35         & M           & W           & N           & 1992        & 2865        & 12          & 2017       \\\\\n",
       "\t  12/31/2017 & 350         & M           & W           & N           & 1958        & 2866        & 12          & 2017       \\\\\n",
       "\t  12/31/2017 &  10         & F           & W           & N           & 2000        & 2867        & 12          & 2017       \\\\\n",
       "\\end{tabular}\n"
      ],
      "text/markdown": [
       "\n",
       "| stopdate | Min | sex | race | ethnic | Year.of.birth | rpmainid | stop_month | stop_year |\n",
       "|---|---|---|---|---|---|---|---|---|\n",
       "|  01/01/2018 |   5         | M           | W           | N           | 1976        | 2862        |  1          | 2018        |\n",
       "|  01/01/2018 |  10         | M           | W           | N           | 2000        | 2863        |  1          | 2018        |\n",
       "|  12/31/2017 |  35         | M           | W           | N           | 1991        | 2864        | 12          | 2017        |\n",
       "|  12/31/2017 |  35         | M           | W           | N           | 1992        | 2865        | 12          | 2017        |\n",
       "|  12/31/2017 | 350         | M           | W           | N           | 1958        | 2866        | 12          | 2017        |\n",
       "|  12/31/2017 |  10         | F           | W           | N           | 2000        | 2867        | 12          | 2017        |\n",
       "\n"
      ],
      "text/plain": [
       "  stopdate    Min sex race ethnic Year.of.birth rpmainid stop_month stop_year\n",
       "1  01/01/2018   5 M   W    N      1976          2862      1         2018     \n",
       "2  01/01/2018  10 M   W    N      2000          2863      1         2018     \n",
       "3  12/31/2017  35 M   W    N      1991          2864     12         2017     \n",
       "4  12/31/2017  35 M   W    N      1992          2865     12         2017     \n",
       "5  12/31/2017 350 M   W    N      1958          2866     12         2017     \n",
       "6  12/31/2017  10 F   W    N      2000          2867     12         2017     "
      ]
     },
     "metadata": {},
     "output_type": "display_data"
    }
   ],
   "source": [
    "df_stops_subset <- mutate(df_stops_subset, \n",
    "                    stop_month = month(as.POSIXlt(df_stops_subset[['stopdate']], format=\"%m/%d/%Y\")), \n",
    "                   stop_year = year(as.POSIXlt(df_stops_subset[['stopdate']], format=\"%m/%d/%Y\")))\n",
    "\n",
    "head(df_stops_subset)"
   ]
  },
  {
   "cell_type": "code",
   "execution_count": 166,
   "metadata": {},
   "outputs": [
    {
     "data": {
      "text/html": [
       "<table>\n",
       "<thead><tr><th scope=col>race</th><th scope=col>n</th></tr></thead>\n",
       "<tbody>\n",
       "\t<tr><td>A   </td><td> 306</td></tr>\n",
       "\t<tr><td>B   </td><td> 346</td></tr>\n",
       "\t<tr><td>I   </td><td>  33</td></tr>\n",
       "\t<tr><td>U   </td><td>   9</td></tr>\n",
       "\t<tr><td>W   </td><td>7352</td></tr>\n",
       "</tbody>\n",
       "</table>\n"
      ],
      "text/latex": [
       "\\begin{tabular}{r|ll}\n",
       " race & n\\\\\n",
       "\\hline\n",
       "\t A    &  306\\\\\n",
       "\t B    &  346\\\\\n",
       "\t I    &   33\\\\\n",
       "\t U    &    9\\\\\n",
       "\t W    & 7352\\\\\n",
       "\\end{tabular}\n"
      ],
      "text/markdown": [
       "\n",
       "| race | n |\n",
       "|---|---|\n",
       "| A    |  306 |\n",
       "| B    |  346 |\n",
       "| I    |   33 |\n",
       "| U    |    9 |\n",
       "| W    | 7352 |\n",
       "\n"
      ],
      "text/plain": [
       "  race n   \n",
       "1 A     306\n",
       "2 B     346\n",
       "3 I      33\n",
       "4 U       9\n",
       "5 W    7352"
      ]
     },
     "metadata": {},
     "output_type": "display_data"
    }
   ],
   "source": [
    "#number of stops by race\n",
    "df_stops_subset %>% \n",
    "  count(race)"
   ]
  },
  {
   "cell_type": "code",
   "execution_count": 167,
   "metadata": {},
   "outputs": [
    {
     "data": {
      "text/html": [
       "<table>\n",
       "<thead><tr><th scope=col>race</th><th scope=col>n</th><th scope=col>proportion</th></tr></thead>\n",
       "<tbody>\n",
       "\t<tr><td>A          </td><td> 306       </td><td>0.038031320</td></tr>\n",
       "\t<tr><td>B          </td><td> 346       </td><td>0.043002734</td></tr>\n",
       "\t<tr><td>I          </td><td>  33       </td><td>0.004101417</td></tr>\n",
       "\t<tr><td>U          </td><td>   9       </td><td>0.001118568</td></tr>\n",
       "\t<tr><td>W          </td><td>7352       </td><td>0.913745961</td></tr>\n",
       "</tbody>\n",
       "</table>\n"
      ],
      "text/latex": [
       "\\begin{tabular}{r|lll}\n",
       " race & n & proportion\\\\\n",
       "\\hline\n",
       "\t A           &  306        & 0.038031320\\\\\n",
       "\t B           &  346        & 0.043002734\\\\\n",
       "\t I           &   33        & 0.004101417\\\\\n",
       "\t U           &    9        & 0.001118568\\\\\n",
       "\t W           & 7352        & 0.913745961\\\\\n",
       "\\end{tabular}\n"
      ],
      "text/markdown": [
       "\n",
       "| race | n | proportion |\n",
       "|---|---|---|\n",
       "| A           |  306        | 0.038031320 |\n",
       "| B           |  346        | 0.043002734 |\n",
       "| I           |   33        | 0.004101417 |\n",
       "| U           |    9        | 0.001118568 |\n",
       "| W           | 7352        | 0.913745961 |\n",
       "\n"
      ],
      "text/plain": [
       "  race n    proportion \n",
       "1 A     306 0.038031320\n",
       "2 B     346 0.043002734\n",
       "3 I      33 0.004101417\n",
       "4 U       9 0.001118568\n",
       "5 W    7352 0.913745961"
      ]
     },
     "metadata": {},
     "output_type": "display_data"
    }
   ],
   "source": [
    "# #fraction of stops by race\n",
    "df_stops_subset %>% \n",
    "  count(race) %>% \n",
    "  mutate(proportion = n / sum(n))"
   ]
  },
  {
   "cell_type": "code",
   "execution_count": 168,
   "metadata": {
    "scrolled": false
   },
   "outputs": [],
   "source": [
    "# ggplot(df_stops_subset, aes(race, Min)) + geom_boxplot()\n",
    "# ggplot(df_stops_subset, aes(sex, Min)) + geom_boxplot()\n",
    "# ggplot(df_stops_subset, aes(ethnic, Min)) + geom_boxplot()"
   ]
  },
  {
   "cell_type": "code",
   "execution_count": 169,
   "metadata": {},
   "outputs": [
    {
     "name": "stderr",
     "output_type": "stream",
     "text": [
      "Warning message in plot.window(xlim, ylim, \"\", ...):\n",
      "\"\"stat\" is not a graphical parameter\"Warning message in title(main = main, sub = sub, xlab = xlab, ylab = ylab, ...):\n",
      "\"\"stat\" is not a graphical parameter\"Warning message in axis(1, ...):\n",
      "\"\"stat\" is not a graphical parameter\"Warning message in axis(2, ...):\n",
      "\"\"stat\" is not a graphical parameter\""
     ]
    },
    {
     "data": {
      "image/png": "[encoded data removed]",
      "text/plain": [
       "Plot with title \"Histogram\""
      ]
     },
     "metadata": {},
     "output_type": "display_data"
    }
   ],
   "source": [
    "## Frequency histogram  \n",
    "\n",
    "hist(df_stops_subset$Min,\n",
    "     col='steelblue',\n",
    "     main='Histogram',stat = \"count\",\n",
    "    )"
   ]
  },
  {
   "cell_type": "code",
   "execution_count": 170,
   "metadata": {},
   "outputs": [
    {
     "data": {
      "image/png": "[encoded data removed]",
      "text/plain": [
       "plot without title"
      ]
     },
     "metadata": {},
     "output_type": "display_data"
    }
   ],
   "source": [
    "##Bar plot 1\n",
    "barplot1 <- ggplot(df_stops_subset, aes(y = Min, x = ethnic))+\n",
    "  geom_bar(\n",
    "    aes(fill = sex), stat = \"summary\", fun.y = \"mean\",\n",
    "    position = position_dodge(.9))\n",
    "\n",
    "barplot1 + ggtitle(\"Duration of traffic stop by gender and ethnicity\")"
   ]
  },
  {
   "cell_type": "code",
   "execution_count": 171,
   "metadata": {},
   "outputs": [
    {
     "data": {
      "image/png": "[encoded data removed]",
      "text/plain": [
       "plot without title"
      ]
     },
     "metadata": {},
     "output_type": "display_data"
    }
   ],
   "source": [
    "##Bar plot 3\n",
    "barplot3 <- ggplot(df_stops_subset, aes(y = Min, x = race))+\n",
    "  geom_bar(\n",
    "    aes(fill = sex), stat = \"summary\", fun.y = \"mean\",\n",
    "    position = position_dodge(.9))\n",
    "\n",
    "barplot3 + ggtitle(\"Average duration of traffic stop by gender and race\")"
   ]
  },
  {
   "cell_type": "code",
   "execution_count": 172,
   "metadata": {},
   "outputs": [
    {
     "data": {
      "image/png": "[encoded data removed]",
      "text/plain": [
       "plot without title"
      ]
     },
     "metadata": {},
     "output_type": "display_data"
    }
   ],
   "source": [
    "# This method uses the group_by/summarize paradigm\n",
    "df_stops_subset %>% \n",
    "  group_by(race, stop_month) %>% \n",
    "  summarize(\n",
    "    n = n(),\n",
    "    proportion = n / nrow(.)  ) %>% \n",
    "  ggplot(aes(x = stop_month, y = proportion, color = race)) +\n",
    "  geom_point() +\n",
    "  geom_line() "
   ]
  },
  {
   "cell_type": "code",
   "execution_count": null,
   "metadata": {},
   "outputs": [],
   "source": [
    "# df_stops_subset %>% \n",
    "#   # notice that you can also mutate `date` *within* the count funciton\n",
    "#   count(stop_month, race)"
   ]
  },
  {
   "cell_type": "code",
   "execution_count": 174,
   "metadata": {},
   "outputs": [],
   "source": [
    "# sapply(df_stops_subset, class)\n"
   ]
  },
  {
   "cell_type": "code",
   "execution_count": null,
   "metadata": {},
   "outputs": [],
   "source": [
    "# test = subset(df_stops_subset, select = c(stop_month, Year.of.birth,Min) )\n",
    "\n",
    "# data_correls <- abs(cor(test))\n",
    "# data_correls"
   ]
  },
  {
   "cell_type": "code",
   "execution_count": 177,
   "metadata": {},
   "outputs": [],
   "source": [
    "library(ggplot2)"
   ]
  },
  {
   "cell_type": "markdown",
   "metadata": {},
   "source": [
    "### Identify Outliers\n",
    "Year of birth ranges from 0 to 2998"
   ]
  },
  {
   "cell_type": "code",
   "execution_count": 182,
   "metadata": {},
   "outputs": [
    {
     "data": {
      "image/png": "[encoded data removed]",
      "text/plain": [
       "plot without title"
      ]
     },
     "metadata": {},
     "output_type": "display_data"
    }
   ],
   "source": [
    "ggplot(data = df_stops_subset, mapping = aes(x = Year.of.birth, y = Min)) + \n",
    "    geom_point(mapping=aes(color = race)) "
   ]
  },
  {
   "cell_type": "code",
   "execution_count": 179,
   "metadata": {},
   "outputs": [
    {
     "data": {
      "image/png": "[encoded data removed]",
      "text/plain": [
       "plot without title"
      ]
     },
     "metadata": {},
     "output_type": "display_data"
    }
   ],
   "source": [
    "boxplot(df_stops_subset$Min, \n",
    "        horizontal=TRUE,\n",
    "#         xlab = 'Incidence/1000 people',\n",
    "#         main='Box plot of TB incidence',\n",
    "        col=\"orange\")"
   ]
  },
  {
   "cell_type": "code",
   "execution_count": 183,
   "metadata": {},
   "outputs": [
    {
     "data": {
      "image/png": "[encoded data removed]",
      "text/plain": [
       "plot without title"
      ]
     },
     "metadata": {},
     "output_type": "display_data"
    }
   ],
   "source": [
    "ggplot(data=df_stops_subset) +\n",
    "    geom_point(mapping=aes(x=Min, y=race))"
   ]
  },
  {
   "cell_type": "code",
   "execution_count": 184,
   "metadata": {},
   "outputs": [
    {
     "data": {
      "image/png": "[encoded data removed]",
      "text/plain": [
       "Plot with title \"Histogram of df_stops_subset$Min\""
      ]
     },
     "metadata": {},
     "output_type": "display_data"
    }
   ],
   "source": [
    "#frequency df_stops_subset\n",
    "hist(df_stops_subset$Min, \n",
    "      breaks=30,\n",
    "#      xlab = 'Incidence/1000 people',\n",
    "#      main='Frequency histogram of TB incidence',\n",
    "     xlim=c(15,100),\n",
    "     col=\"green\")"
   ]
  },
  {
   "cell_type": "code",
   "execution_count": 185,
   "metadata": {},
   "outputs": [
    {
     "data": {
      "text/html": [
       "<table>\n",
       "<thead><tr><th scope=col>race_census</th><th scope=col>percent_census</th></tr></thead>\n",
       "<tbody>\n",
       "\t<tr><td>W   </td><td>87.9</td></tr>\n",
       "\t<tr><td>B   </td><td> 1.1</td></tr>\n",
       "\t<tr><td>I   </td><td> 0.3</td></tr>\n",
       "\t<tr><td>A   </td><td> 5.3</td></tr>\n",
       "\t<tr><td>U   </td><td> 3.5</td></tr>\n",
       "</tbody>\n",
       "</table>\n"
      ],
      "text/latex": [
       "\\begin{tabular}{r|ll}\n",
       " race\\_census & percent\\_census\\\\\n",
       "\\hline\n",
       "\t W    & 87.9\\\\\n",
       "\t B    &  1.1\\\\\n",
       "\t I    &  0.3\\\\\n",
       "\t A    &  5.3\\\\\n",
       "\t U    &  3.5\\\\\n",
       "\\end{tabular}\n"
      ],
      "text/markdown": [
       "\n",
       "| race_census | percent_census |\n",
       "|---|---|\n",
       "| W    | 87.9 |\n",
       "| B    |  1.1 |\n",
       "| I    |  0.3 |\n",
       "| A    |  5.3 |\n",
       "| U    |  3.5 |\n",
       "\n"
      ],
      "text/plain": [
       "  race_census percent_census\n",
       "1 W           87.9          \n",
       "2 B            1.1          \n",
       "3 I            0.3          \n",
       "4 A            5.3          \n",
       "5 U            3.5          "
      ]
     },
     "metadata": {},
     "output_type": "display_data"
    }
   ],
   "source": [
    "# census data\n",
    "\n",
    "race_census <- c(\"W\",\"B\",\n",
    "               \"I\",\"A\",\n",
    "               \"U\"\n",
    "#                \"White- Hispanic\"\n",
    "                )\n",
    "percent_census <- c(87.9,1.1,0.3,5.3,3.5\n",
    "#                     #9.3\n",
    "                   )\n",
    "\n",
    "boulder_census <- data.frame(race_census, percent_census)\n",
    "boulder_census"
   ]
  },
  {
   "cell_type": "code",
   "execution_count": 186,
   "metadata": {},
   "outputs": [
    {
     "ename": "ERROR",
     "evalue": "`by` can't contain join column `race_census` which is missing from LHS",
     "output_type": "error",
     "traceback": [
      "`by` can't contain join column `race_census` which is missing from LHSTraceback:\n",
      "1. df_stops_subset %>% count(race) %>% left_join(boulder_census, \n .     by = \"race_census\") %>% mutate(stop_rate = n/num_people)",
      "2. withVisible(eval(quote(`_fseq`(`_lhs`)), env, env))",
      "3. eval(quote(`_fseq`(`_lhs`)), env, env)",
      "4. eval(quote(`_fseq`(`_lhs`)), env, env)",
      "5. `_fseq`(`_lhs`)",
      "6. freduce(value, `_function_list`)",
      "7. function_list[[i]](value)",
      "8. left_join(., boulder_census, by = \"race_census\")",
      "9. left_join.tbl_df(., boulder_census, by = \"race_census\")",
      "10. common_by(by, x, y)",
      "11. common_by.character(by, x, y)",
      "12. common_by.list(by, x, y)",
      "13. bad_args(\"by\", \"can't contain join column {missing} which is missing from LHS\", \n  .     missing = fmt_obj(setdiff(by$x, x_vars)))",
      "14. glubort(fmt_args(args), ..., .envir = .envir)",
      "15. .abort(text)"
     ]
    }
   ],
   "source": [
    "# Join stops and census data\n",
    "df_stops_subset %>% \n",
    "  count(race) %>% \n",
    "  left_join(\n",
    "    boulder_census,\n",
    "    by = \"race_census\"\n",
    "  ) %>% \n",
    "  mutate(stop_rate = n / num_people)"
   ]
  },
  {
   "cell_type": "code",
   "execution_count": null,
   "metadata": {},
   "outputs": [],
   "source": []
  },
  {
   "cell_type": "code",
   "execution_count": null,
   "metadata": {},
   "outputs": [],
   "source": []
  },
  {
   "cell_type": "code",
   "execution_count": 196,
   "metadata": {},
   "outputs": [],
   "source": [
    "library(corrplot) #correlation plot\n",
    "library(fastDummies) #useful for one hot encoding\n",
    "library(caret)"
   ]
  },
  {
   "cell_type": "code",
   "execution_count": 197,
   "metadata": {},
   "outputs": [
    {
     "data": {
      "text/html": [
       "<table>\n",
       "<thead><tr><th scope=col>race</th><th scope=col>Min</th><th scope=col>sex</th><th scope=col>ethnic</th><th scope=col>Year.of.birth</th><th scope=col>rpmainid</th><th scope=col>stop_month</th><th scope=col>stop_year</th></tr></thead>\n",
       "<tbody>\n",
       "\t<tr><td>W   </td><td>  5 </td><td>M   </td><td>N   </td><td>1976</td><td>2862</td><td> 1  </td><td>2018</td></tr>\n",
       "\t<tr><td>W   </td><td> 10 </td><td>M   </td><td>N   </td><td>2000</td><td>2863</td><td> 1  </td><td>2018</td></tr>\n",
       "\t<tr><td>W   </td><td> 35 </td><td>M   </td><td>N   </td><td>1991</td><td>2864</td><td>12  </td><td>2017</td></tr>\n",
       "\t<tr><td>W   </td><td> 35 </td><td>M   </td><td>N   </td><td>1992</td><td>2865</td><td>12  </td><td>2017</td></tr>\n",
       "\t<tr><td>W   </td><td>350 </td><td>M   </td><td>N   </td><td>1958</td><td>2866</td><td>12  </td><td>2017</td></tr>\n",
       "\t<tr><td>W   </td><td> 10 </td><td>F   </td><td>N   </td><td>2000</td><td>2867</td><td>12  </td><td>2017</td></tr>\n",
       "</tbody>\n",
       "</table>\n"
      ],
      "text/latex": [
       "\\begin{tabular}{r|llllllll}\n",
       " race & Min & sex & ethnic & Year.of.birth & rpmainid & stop\\_month & stop\\_year\\\\\n",
       "\\hline\n",
       "\t W    &   5  & M    & N    & 1976 & 2862 &  1   & 2018\\\\\n",
       "\t W    &  10  & M    & N    & 2000 & 2863 &  1   & 2018\\\\\n",
       "\t W    &  35  & M    & N    & 1991 & 2864 & 12   & 2017\\\\\n",
       "\t W    &  35  & M    & N    & 1992 & 2865 & 12   & 2017\\\\\n",
       "\t W    & 350  & M    & N    & 1958 & 2866 & 12   & 2017\\\\\n",
       "\t W    &  10  & F    & N    & 2000 & 2867 & 12   & 2017\\\\\n",
       "\\end{tabular}\n"
      ],
      "text/markdown": [
       "\n",
       "| race | Min | sex | ethnic | Year.of.birth | rpmainid | stop_month | stop_year |\n",
       "|---|---|---|---|---|---|---|---|\n",
       "| W    |   5  | M    | N    | 1976 | 2862 |  1   | 2018 |\n",
       "| W    |  10  | M    | N    | 2000 | 2863 |  1   | 2018 |\n",
       "| W    |  35  | M    | N    | 1991 | 2864 | 12   | 2017 |\n",
       "| W    |  35  | M    | N    | 1992 | 2865 | 12   | 2017 |\n",
       "| W    | 350  | M    | N    | 1958 | 2866 | 12   | 2017 |\n",
       "| W    |  10  | F    | N    | 2000 | 2867 | 12   | 2017 |\n",
       "\n"
      ],
      "text/plain": [
       "  race Min sex ethnic Year.of.birth rpmainid stop_month stop_year\n",
       "1 W      5 M   N      1976          2862      1         2018     \n",
       "2 W     10 M   N      2000          2863      1         2018     \n",
       "3 W     35 M   N      1991          2864     12         2017     \n",
       "4 W     35 M   N      1992          2865     12         2017     \n",
       "5 W    350 M   N      1958          2866     12         2017     \n",
       "6 W     10 F   N      2000          2867     12         2017     "
      ]
     },
     "metadata": {},
     "output_type": "display_data"
    }
   ],
   "source": [
    "df_stops_subset2 <- select(df_stops_subset, race, Min, sex,ethnic,Year.of.birth,rpmainid,stop_month,stop_year) \n",
    "head(df_stops_subset2)"
   ]
  },
  {
   "cell_type": "code",
   "execution_count": 198,
   "metadata": {},
   "outputs": [],
   "source": [
    "# Partition Step 1 - Set the random seed\n",
    "set.seed(50)\n",
    "\n",
    "# Partition Step 2 - Get row numbers for the training data\n",
    "trainRowNums <- createDataPartition(df_stops_subset2$race, \n",
    "                                    p=0.8, list=FALSE)\n",
    "\n",
    "# Partition Step 3 - Make the (80%) training set\n",
    "trainData <- df_stops_subset2[trainRowNums,]\n",
    "\n",
    "# Partition Step 4 - Make the (20%) test set\n",
    "testData <- df_stops_subset2[-trainRowNums,]\n",
    "\n",
    "# Store X and Y for later use.\n",
    "x = trainData[, !names(trainData) == c(\"Min\")]\n",
    "y = trainData$Min"
   ]
  },
  {
   "cell_type": "code",
   "execution_count": null,
   "metadata": {},
   "outputs": [],
   "source": []
  },
  {
   "cell_type": "code",
   "execution_count": 199,
   "metadata": {},
   "outputs": [
    {
     "data": {
      "text/plain": [
       "Dummy Variable Object\n",
       "\n",
       "Formula: Min ~ .\n",
       "8 variables, 3 factors\n",
       "Variables and levels will be separated by '.'\n",
       "A less than full rank encoding is used"
      ]
     },
     "metadata": {},
     "output_type": "display_data"
    }
   ],
   "source": [
    "test_model <- dummyVars(Min~ .,data=trainData)\n",
    "test_model"
   ]
  },
  {
   "cell_type": "code",
   "execution_count": 201,
   "metadata": {},
   "outputs": [
    {
     "name": "stdout",
     "output_type": "stream",
     "text": [
      "'data.frame':\t6439 obs. of  13 variables:\n",
      " $ race.A       : num  0 0 0 0 0 0 0 0 0 0 ...\n",
      " $ race.B       : num  0 0 0 0 0 0 0 0 0 0 ...\n",
      " $ race.I       : num  0 0 0 0 0 0 0 0 0 0 ...\n",
      " $ race.U       : num  0 0 0 0 0 0 0 0 0 0 ...\n",
      " $ race.W       : num  1 1 1 1 1 1 1 1 1 1 ...\n",
      " $ sex.F        : num  0 0 0 0 1 0 0 1 0 1 ...\n",
      " $ sex.M        : num  1 1 1 1 0 1 1 0 1 0 ...\n",
      " $ ethnic.H     : num  0 0 0 0 0 0 0 0 0 0 ...\n",
      " $ ethnic.N     : num  1 1 1 1 1 1 1 1 1 1 ...\n",
      " $ Year.of.birth: num  1976 2000 1992 1958 2000 ...\n",
      " $ rpmainid     : num  2862 2863 2865 2866 2867 ...\n",
      " $ stop_month   : num  1 1 12 12 12 1 1 1 1 1 ...\n",
      " $ stop_year    : num  2018 2018 2017 2017 2017 ...\n"
     ]
    }
   ],
   "source": [
    "## One-Hot \n",
    "# Creating dummy variables is converting a categorical variable to as many binary variables as here are categories.\n",
    "dummies_model <- dummyVars(Min ~ ., data=df_stops_subset2)\n",
    "\n",
    "# Create the dummy variables using predict. The Y variable (BREEDINGCATEGORY) will not be present in trainData_mat.\n",
    "trainData_mat <- predict(dummies_model, newdata = trainData)\n",
    "\n",
    "# # Convert to dataframe\n",
    "trainData_oneHot <- data.frame(trainData_mat)\n",
    "\n",
    "# # See the structure of the new dataset\n",
    "str(trainData_oneHot)"
   ]
  },
  {
   "cell_type": "code",
   "execution_count": 202,
   "metadata": {},
   "outputs": [
    {
     "data": {
      "image/png": "[encoded data removed]",
      "text/plain": [
       "Plot with title \"\""
      ]
     },
     "metadata": {},
     "output_type": "display_data"
    }
   ],
   "source": [
    "# cor(trainData_oneHot)\n",
    "corrplot(cor(trainData_oneHot[,2:length(trainData_oneHot)]))#, method=\"circle\")"
   ]
  },
  {
   "cell_type": "code",
   "execution_count": null,
   "metadata": {},
   "outputs": [],
   "source": []
  }
 ],
 "metadata": {
  "kernelspec": {
   "display_name": "R",
   "language": "R",
   "name": "ir"
  },
  "language_info": {
   "codemirror_mode": "r",
   "file_extension": ".r",
   "mimetype": "text/x-r-source",
   "name": "R",
   "pygments_lexer": "r",
   "version": "3.6.1"
  }
 },
 "nbformat": 4,
 "nbformat_minor": 2
}
